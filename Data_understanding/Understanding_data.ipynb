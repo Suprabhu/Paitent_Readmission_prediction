{
 "cells": [
  {
   "cell_type": "code",
   "execution_count": 1,
   "id": "b6d09e44",
   "metadata": {},
   "outputs": [],
   "source": [
    "# importing the libraries \n",
    "import pandas as pd \n",
    "import numpy as np\n",
    "import matplotlib.pyplot as plt \n",
    "import seaborn as sns \n",
    "sns.set()"
   ]
  },
  {
   "cell_type": "code",
   "execution_count": 3,
   "id": "c2ccc24b",
   "metadata": {},
   "outputs": [],
   "source": [
    "# importing the data\n",
    "health_data = pd.read_csv(\"E:\\\\ML_Projects\\\\Health_care_paitent_readmission\\\\Health_Data.csv\")"
   ]
  },
  {
   "cell_type": "code",
   "execution_count": 4,
   "id": "a0c989b1",
   "metadata": {},
   "outputs": [],
   "source": [
    "# creating a copy to work \n",
    "health_df = health_data.copy()"
   ]
  },
  {
   "cell_type": "code",
   "execution_count": 5,
   "id": "727ac602",
   "metadata": {},
   "outputs": [
    {
     "data": {
      "text/html": [
       "<div>\n",
       "<style scoped>\n",
       "    .dataframe tbody tr th:only-of-type {\n",
       "        vertical-align: middle;\n",
       "    }\n",
       "\n",
       "    .dataframe tbody tr th {\n",
       "        vertical-align: top;\n",
       "    }\n",
       "\n",
       "    .dataframe thead th {\n",
       "        text-align: right;\n",
       "    }\n",
       "</style>\n",
       "<table border=\"1\" class=\"dataframe\">\n",
       "  <thead>\n",
       "    <tr style=\"text-align: right;\">\n",
       "      <th></th>\n",
       "      <th>Patient_id</th>\n",
       "      <th>Age</th>\n",
       "      <th>Admission_type</th>\n",
       "      <th>PreExistingDisease</th>\n",
       "      <th>PreviousSurgery</th>\n",
       "      <th>Gender</th>\n",
       "      <th>Smoker</th>\n",
       "      <th>Homeless</th>\n",
       "      <th>DaysinHospital</th>\n",
       "      <th>Readmitted</th>\n",
       "    </tr>\n",
       "  </thead>\n",
       "  <tbody>\n",
       "    <tr>\n",
       "      <th>0</th>\n",
       "      <td>1</td>\n",
       "      <td>33</td>\n",
       "      <td>Urgent</td>\n",
       "      <td>Y</td>\n",
       "      <td>0</td>\n",
       "      <td>M</td>\n",
       "      <td>1</td>\n",
       "      <td>0</td>\n",
       "      <td>1</td>\n",
       "      <td>0</td>\n",
       "    </tr>\n",
       "    <tr>\n",
       "      <th>1</th>\n",
       "      <td>2</td>\n",
       "      <td>34</td>\n",
       "      <td>Emergency</td>\n",
       "      <td>N</td>\n",
       "      <td>0</td>\n",
       "      <td>M</td>\n",
       "      <td>1</td>\n",
       "      <td>0</td>\n",
       "      <td>22</td>\n",
       "      <td>0</td>\n",
       "    </tr>\n",
       "    <tr>\n",
       "      <th>2</th>\n",
       "      <td>3</td>\n",
       "      <td>88</td>\n",
       "      <td>Trauma</td>\n",
       "      <td>Y</td>\n",
       "      <td>1</td>\n",
       "      <td>M</td>\n",
       "      <td>1</td>\n",
       "      <td>1</td>\n",
       "      <td>100</td>\n",
       "      <td>1</td>\n",
       "    </tr>\n",
       "    <tr>\n",
       "      <th>3</th>\n",
       "      <td>4</td>\n",
       "      <td>56</td>\n",
       "      <td>Elective</td>\n",
       "      <td>Y</td>\n",
       "      <td>0</td>\n",
       "      <td>M</td>\n",
       "      <td>1</td>\n",
       "      <td>0</td>\n",
       "      <td>2</td>\n",
       "      <td>0</td>\n",
       "    </tr>\n",
       "    <tr>\n",
       "      <th>4</th>\n",
       "      <td>5</td>\n",
       "      <td>45</td>\n",
       "      <td>Trauma</td>\n",
       "      <td>Y</td>\n",
       "      <td>0</td>\n",
       "      <td>M</td>\n",
       "      <td>1</td>\n",
       "      <td>0</td>\n",
       "      <td>34</td>\n",
       "      <td>0</td>\n",
       "    </tr>\n",
       "  </tbody>\n",
       "</table>\n",
       "</div>"
      ],
      "text/plain": [
       "   Patient_id  Age Admission_type PreExistingDisease  PreviousSurgery Gender  \\\n",
       "0           1   33         Urgent                  Y                0      M   \n",
       "1           2   34      Emergency                  N                0      M   \n",
       "2           3   88         Trauma                  Y                1      M   \n",
       "3           4   56       Elective                  Y                0      M   \n",
       "4           5   45         Trauma                  Y                0      M   \n",
       "\n",
       "   Smoker  Homeless  DaysinHospital  Readmitted  \n",
       "0       1         0               1           0  \n",
       "1       1         0              22           0  \n",
       "2       1         1             100           1  \n",
       "3       1         0               2           0  \n",
       "4       1         0              34           0  "
      ]
     },
     "execution_count": 5,
     "metadata": {},
     "output_type": "execute_result"
    }
   ],
   "source": [
    "#looking how the data looks\n",
    "health_df.head()"
   ]
  },
  {
   "cell_type": "code",
   "execution_count": 6,
   "id": "b51e58cf",
   "metadata": {},
   "outputs": [
    {
     "name": "stdout",
     "output_type": "stream",
     "text": [
      "<class 'pandas.core.frame.DataFrame'>\n",
      "RangeIndex: 357 entries, 0 to 356\n",
      "Data columns (total 10 columns):\n",
      " #   Column              Non-Null Count  Dtype \n",
      "---  ------              --------------  ----- \n",
      " 0   Patient_id          357 non-null    int64 \n",
      " 1   Age                 357 non-null    int64 \n",
      " 2   Admission_type      357 non-null    object\n",
      " 3   PreExistingDisease  357 non-null    object\n",
      " 4   PreviousSurgery     357 non-null    int64 \n",
      " 5   Gender              357 non-null    object\n",
      " 6   Smoker              357 non-null    int64 \n",
      " 7   Homeless            357 non-null    int64 \n",
      " 8   DaysinHospital      357 non-null    int64 \n",
      " 9   Readmitted          357 non-null    int64 \n",
      "dtypes: int64(7), object(3)\n",
      "memory usage: 28.0+ KB\n"
     ]
    }
   ],
   "source": [
    "# more info about data \n",
    "health_df.info()"
   ]
  },
  {
   "cell_type": "code",
   "execution_count": 8,
   "id": "0dc44496",
   "metadata": {},
   "outputs": [
    {
     "data": {
      "text/html": [
       "<div>\n",
       "<style scoped>\n",
       "    .dataframe tbody tr th:only-of-type {\n",
       "        vertical-align: middle;\n",
       "    }\n",
       "\n",
       "    .dataframe tbody tr th {\n",
       "        vertical-align: top;\n",
       "    }\n",
       "\n",
       "    .dataframe thead th {\n",
       "        text-align: right;\n",
       "    }\n",
       "</style>\n",
       "<table border=\"1\" class=\"dataframe\">\n",
       "  <thead>\n",
       "    <tr style=\"text-align: right;\">\n",
       "      <th></th>\n",
       "      <th>count</th>\n",
       "      <th>mean</th>\n",
       "      <th>std</th>\n",
       "      <th>min</th>\n",
       "      <th>25%</th>\n",
       "      <th>50%</th>\n",
       "      <th>75%</th>\n",
       "      <th>max</th>\n",
       "    </tr>\n",
       "  </thead>\n",
       "  <tbody>\n",
       "    <tr>\n",
       "      <th>Patient_id</th>\n",
       "      <td>357.0</td>\n",
       "      <td>179.000000</td>\n",
       "      <td>103.201260</td>\n",
       "      <td>1.0</td>\n",
       "      <td>90.0</td>\n",
       "      <td>179.0</td>\n",
       "      <td>268.0</td>\n",
       "      <td>357.0</td>\n",
       "    </tr>\n",
       "    <tr>\n",
       "      <th>Age</th>\n",
       "      <td>357.0</td>\n",
       "      <td>42.574230</td>\n",
       "      <td>29.274624</td>\n",
       "      <td>0.0</td>\n",
       "      <td>14.0</td>\n",
       "      <td>35.0</td>\n",
       "      <td>67.0</td>\n",
       "      <td>96.0</td>\n",
       "    </tr>\n",
       "    <tr>\n",
       "      <th>PreviousSurgery</th>\n",
       "      <td>357.0</td>\n",
       "      <td>0.341737</td>\n",
       "      <td>0.474957</td>\n",
       "      <td>0.0</td>\n",
       "      <td>0.0</td>\n",
       "      <td>0.0</td>\n",
       "      <td>1.0</td>\n",
       "      <td>1.0</td>\n",
       "    </tr>\n",
       "    <tr>\n",
       "      <th>Smoker</th>\n",
       "      <td>357.0</td>\n",
       "      <td>0.596639</td>\n",
       "      <td>0.491261</td>\n",
       "      <td>0.0</td>\n",
       "      <td>0.0</td>\n",
       "      <td>1.0</td>\n",
       "      <td>1.0</td>\n",
       "      <td>1.0</td>\n",
       "    </tr>\n",
       "    <tr>\n",
       "      <th>Homeless</th>\n",
       "      <td>357.0</td>\n",
       "      <td>0.378151</td>\n",
       "      <td>0.485606</td>\n",
       "      <td>0.0</td>\n",
       "      <td>0.0</td>\n",
       "      <td>0.0</td>\n",
       "      <td>1.0</td>\n",
       "      <td>1.0</td>\n",
       "    </tr>\n",
       "    <tr>\n",
       "      <th>DaysinHospital</th>\n",
       "      <td>357.0</td>\n",
       "      <td>43.182073</td>\n",
       "      <td>47.362609</td>\n",
       "      <td>1.0</td>\n",
       "      <td>12.0</td>\n",
       "      <td>32.0</td>\n",
       "      <td>55.0</td>\n",
       "      <td>352.0</td>\n",
       "    </tr>\n",
       "    <tr>\n",
       "      <th>Readmitted</th>\n",
       "      <td>357.0</td>\n",
       "      <td>0.193277</td>\n",
       "      <td>0.395423</td>\n",
       "      <td>0.0</td>\n",
       "      <td>0.0</td>\n",
       "      <td>0.0</td>\n",
       "      <td>0.0</td>\n",
       "      <td>1.0</td>\n",
       "    </tr>\n",
       "  </tbody>\n",
       "</table>\n",
       "</div>"
      ],
      "text/plain": [
       "                 count        mean         std  min   25%    50%    75%    max\n",
       "Patient_id       357.0  179.000000  103.201260  1.0  90.0  179.0  268.0  357.0\n",
       "Age              357.0   42.574230   29.274624  0.0  14.0   35.0   67.0   96.0\n",
       "PreviousSurgery  357.0    0.341737    0.474957  0.0   0.0    0.0    1.0    1.0\n",
       "Smoker           357.0    0.596639    0.491261  0.0   0.0    1.0    1.0    1.0\n",
       "Homeless         357.0    0.378151    0.485606  0.0   0.0    0.0    1.0    1.0\n",
       "DaysinHospital   357.0   43.182073   47.362609  1.0  12.0   32.0   55.0  352.0\n",
       "Readmitted       357.0    0.193277    0.395423  0.0   0.0    0.0    0.0    1.0"
      ]
     },
     "execution_count": 8,
     "metadata": {},
     "output_type": "execute_result"
    }
   ],
   "source": [
    "#Looking at some statistical parameters\n",
    "health_df.describe().T"
   ]
  },
  {
   "cell_type": "code",
   "execution_count": 14,
   "id": "44a3c6a2",
   "metadata": {},
   "outputs": [
    {
     "data": {
      "text/html": [
       "<div>\n",
       "<style scoped>\n",
       "    .dataframe tbody tr th:only-of-type {\n",
       "        vertical-align: middle;\n",
       "    }\n",
       "\n",
       "    .dataframe tbody tr th {\n",
       "        vertical-align: top;\n",
       "    }\n",
       "\n",
       "    .dataframe thead th {\n",
       "        text-align: right;\n",
       "    }\n",
       "</style>\n",
       "<table border=\"1\" class=\"dataframe\">\n",
       "  <thead>\n",
       "    <tr style=\"text-align: right;\">\n",
       "      <th></th>\n",
       "      <th>count</th>\n",
       "      <th>unique</th>\n",
       "      <th>top</th>\n",
       "      <th>freq</th>\n",
       "    </tr>\n",
       "  </thead>\n",
       "  <tbody>\n",
       "    <tr>\n",
       "      <th>Admission_type</th>\n",
       "      <td>357</td>\n",
       "      <td>5</td>\n",
       "      <td>Urgent</td>\n",
       "      <td>131</td>\n",
       "    </tr>\n",
       "    <tr>\n",
       "      <th>PreExistingDisease</th>\n",
       "      <td>357</td>\n",
       "      <td>2</td>\n",
       "      <td>N</td>\n",
       "      <td>228</td>\n",
       "    </tr>\n",
       "    <tr>\n",
       "      <th>Gender</th>\n",
       "      <td>357</td>\n",
       "      <td>2</td>\n",
       "      <td>F</td>\n",
       "      <td>186</td>\n",
       "    </tr>\n",
       "  </tbody>\n",
       "</table>\n",
       "</div>"
      ],
      "text/plain": [
       "                   count unique     top freq\n",
       "Admission_type       357      5  Urgent  131\n",
       "PreExistingDisease   357      2       N  228\n",
       "Gender               357      2       F  186"
      ]
     },
     "execution_count": 14,
     "metadata": {},
     "output_type": "execute_result"
    }
   ],
   "source": [
    "# looking at catgorical variables and their numbers\n",
    "health_df.describe(include = ['object']).T"
   ]
  },
  {
   "cell_type": "code",
   "execution_count": 19,
   "id": "67578818",
   "metadata": {},
   "outputs": [
    {
     "data": {
      "text/plain": [
       "Urgent       131\n",
       "Trauma        80\n",
       "Elective      76\n",
       "Emergency     42\n",
       "Newborn       28\n",
       "Name: Admission_type, dtype: int64"
      ]
     },
     "execution_count": 19,
     "metadata": {},
     "output_type": "execute_result"
    }
   ],
   "source": [
    "#distribution of paitents over admission type\n",
    "health_df['Admission_type'].value_counts()"
   ]
  },
  {
   "cell_type": "code",
   "execution_count": 23,
   "id": "140b848b",
   "metadata": {},
   "outputs": [
    {
     "data": {
      "text/plain": [
       "<AxesSubplot:xlabel='Admission_type', ylabel='count'>"
      ]
     },
     "execution_count": 23,
     "metadata": {},
     "output_type": "execute_result"
    },
    {
     "data": {
      "image/png": "[encoded data removed]",
      "text/plain": [
       "<Figure size 432x288 with 1 Axes>"
      ]
     },
     "metadata": {
      "needs_background": "light"
     },
     "output_type": "display_data"
    }
   ],
   "source": [
    "sns.countplot( x = health_df['Admission_type'])"
   ]
  },
  {
   "cell_type": "code",
   "execution_count": 20,
   "id": "13c6516a",
   "metadata": {},
   "outputs": [
    {
     "data": {
      "text/plain": [
       "N    228\n",
       "Y    129\n",
       "Name: PreExistingDisease, dtype: int64"
      ]
     },
     "execution_count": 20,
     "metadata": {},
     "output_type": "execute_result"
    }
   ],
   "source": [
    "#distribution of paitents over PreExistingDisease\n",
    "health_df['PreExistingDisease'].value_counts()"
   ]
  },
  {
   "cell_type": "code",
   "execution_count": 28,
   "id": "ac78a76b",
   "metadata": {},
   "outputs": [
    {
     "data": {
      "text/plain": [
       "<AxesSubplot:xlabel='PreExistingDisease', ylabel='count'>"
      ]
     },
     "execution_count": 28,
     "metadata": {},
     "output_type": "execute_result"
    },
    {
     "data": {
      "image/png": "[encoded data removed]",
      "text/plain": [
       "<Figure size 432x288 with 1 Axes>"
      ]
     },
     "metadata": {
      "needs_background": "light"
     },
     "output_type": "display_data"
    }
   ],
   "source": [
    "sns.countplot( x = health_df['PreExistingDisease'])"
   ]
  },
  {
   "cell_type": "code",
   "execution_count": 21,
   "id": "34bda120",
   "metadata": {},
   "outputs": [
    {
     "data": {
      "text/plain": [
       "F    186\n",
       "M    171\n",
       "Name: Gender, dtype: int64"
      ]
     },
     "execution_count": 21,
     "metadata": {},
     "output_type": "execute_result"
    }
   ],
   "source": [
    "#distribution of paitents over Gender\n",
    "health_df['Gender'].value_counts()"
   ]
  },
  {
   "cell_type": "code",
   "execution_count": 29,
   "id": "2a23f0dc",
   "metadata": {},
   "outputs": [
    {
     "data": {
      "text/plain": [
       "<AxesSubplot:xlabel='Gender', ylabel='count'>"
      ]
     },
     "execution_count": 29,
     "metadata": {},
     "output_type": "execute_result"
    },
    {
     "data": {
      "image/png": "[encoded data removed]",
      "text/plain": [
       "<Figure size 432x288 with 1 Axes>"
      ]
     },
     "metadata": {
      "needs_background": "light"
     },
     "output_type": "display_data"
    }
   ],
   "source": [
    "sns.countplot( x = health_df['Gender'])"
   ]
  }
 ],
 "metadata": {
  "kernelspec": {
   "display_name": "Python 3",
   "language": "python",
   "name": "python3"
  },
  "language_info": {
   "codemirror_mode": {
    "name": "ipython",
    "version": 3
   },
   "file_extension": ".py",
   "mimetype": "text/x-python",
   "name": "python",
   "nbconvert_exporter": "python",
   "pygments_lexer": "ipython3",
   "version": "3.9.4"
  }
 },
 "nbformat": 4,
 "nbformat_minor": 5
}
